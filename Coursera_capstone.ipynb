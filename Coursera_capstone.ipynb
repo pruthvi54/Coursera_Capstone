{
  "nbformat": 4,
  "nbformat_minor": 0,
  "metadata": {
    "colab": {
      "name": "Coursera_capstone.ipynb",
      "provenance": []
    },
    "kernelspec": {
      "name": "python3",
      "display_name": "Python 3"
    }
  },
  "cells": [
    {
      "cell_type": "markdown",
      "metadata": {
        "id": "r1dRnRPwIx2G",
        "colab_type": "text"
      },
      "source": [
        "## Capstone notebook"
      ]
    },
    {
      "cell_type": "markdown",
      "metadata": {
        "id": "sPAKOs5-I6Uz",
        "colab_type": "text"
      },
      "source": [
        "This notebook will be used for capstone project."
      ]
    },
    {
      "cell_type": "code",
      "metadata": {
        "id": "JYfqqOCZJI6D",
        "colab_type": "code",
        "colab": {}
      },
      "source": [
        "import pandas as pd\n",
        "import numpy as np"
      ],
      "execution_count": 0,
      "outputs": []
    },
    {
      "cell_type": "code",
      "metadata": {
        "id": "V5DU23I5JOdd",
        "colab_type": "code",
        "colab": {
          "base_uri": "https://localhost:8080/",
          "height": 35
        },
        "outputId": "f1c25154-e18d-40c8-a877-d9bbc7cca700"
      },
      "source": [
        "print(' Hello Capstone Project Course!')"
      ],
      "execution_count": 2,
      "outputs": [
        {
          "output_type": "stream",
          "text": [
            " Hello Capstone Project Course!\n"
          ],
          "name": "stdout"
        }
      ]
    },
    {
      "cell_type": "code",
      "metadata": {
        "id": "9R-bD28VJWL4",
        "colab_type": "code",
        "colab": {}
      },
      "source": [
        ""
      ],
      "execution_count": 0,
      "outputs": []
    }
  ]
}